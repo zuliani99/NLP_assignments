{
  "cells": [
    {
      "cell_type": "code",
      "execution_count": 1,
      "metadata": {
        "id": "UyZpwSTeIaB3"
      },
      "outputs": [],
      "source": [
        "%matplotlib inline"
      ]
    },
    {
      "cell_type": "markdown",
      "metadata": {
        "id": "cAvfoKtRIaB5"
      },
      "source": [
        "\n",
        "# Translation with a Sequence to Sequence Network and Attention\n",
        "\n",
        "In this tutorial we learn a model to translate from Italian to English.\n",
        "\n",
        "\n",
        "A sequence to sequence network is composed of two recurrent neural networks: one which encodes the input data to one single vector - the *context* vector - and the other one which decodes the *context* vector to a new sequence.\n",
        "\n",
        "It has been introduced an [attention\n",
        "mechanism](https://arxiv.org/abs/1409.0473), which permits the decoder learn to focus over the informative input data in the input sequence.\n"
      ]
    },
    {
      "cell_type": "code",
      "execution_count": 2,
      "metadata": {
        "id": "XVKHzOUzIaB7"
      },
      "outputs": [],
      "source": [
        "from __future__ import unicode_literals, print_function, division\n",
        "from io import open\n",
        "import unicodedata\n",
        "import re\n",
        "import random\n",
        "\n",
        "import torch\n",
        "import torch.nn as nn\n",
        "from torch import optim\n",
        "import torch.nn.functional as F\n",
        "\n",
        "import numpy as np\n",
        "from torch.utils.data import TensorDataset, DataLoader, RandomSampler\n",
        "\n",
        "device = torch.device(\"cuda\" if torch.cuda.is_available() else \"cpu\")"
      ]
    },
    {
      "cell_type": "markdown",
      "metadata": {
        "id": "YV1b-3EwIaB7"
      },
      "source": [
        "## Loading data files\n",
        "\n",
        "The data for this project is a set of pairs of text of Italian to English translation strings.\n",
        "\n",
        "\n",
        "There is translation site https://tatoeba.org/ which has\n",
        "downloads available at https://tatoeba.org/eng/downloads where we can find the dataset used here.\n",
        "\n",
        "Let's choose from `English` to `Italian`.\n",
        "We have to remove the numbers and keep only the strings.\n",
        "\n",
        "\n",
        "``4555 Devo andare a dormire.\t1277\tI have to go to sleep.``\n",
        "\n"
      ]
    },
    {
      "cell_type": "markdown",
      "metadata": {
        "id": "toVN6LNbIaB8"
      },
      "source": [
        "We will be representing each word in a language as a one-hot vector.   \n",
        "The number of words in a language are much more than the number of characters.   \n",
        "Here, we are going to use only some thousands of words per language.\n",
        "\n"
      ]
    },
    {
      "cell_type": "markdown",
      "metadata": {
        "id": "VgnYlOUVIaB8"
      },
      "source": [
        "Here, a class is created to make the mapping between the words and the indexes, and the opposite. Moreover there is a variable counting the words.\n",
        "\n"
      ]
    },
    {
      "cell_type": "code",
      "execution_count": 3,
      "metadata": {
        "id": "eCge98ybIaB9"
      },
      "outputs": [],
      "source": [
        "SOS_token = 0\n",
        "EOS_token = 1\n",
        "\n",
        "class Lang:\n",
        "    def __init__(self, name):\n",
        "        self.name = name\n",
        "        self.word2index = {}\n",
        "        self.word2count = {}\n",
        "        self.index2word = {0: \"SOS\", 1: \"EOS\"}\n",
        "        self.n_words = 2  # Count SOS and EOS\n",
        "\n",
        "    def addSentence(self, sentence):\n",
        "        for word in sentence.split(' '):\n",
        "            self.addWord(word)\n",
        "\n",
        "    def addWord(self, word):\n",
        "        if word not in self.word2index:\n",
        "            self.word2index[word] = self.n_words\n",
        "            self.word2count[word] = 1\n",
        "            self.index2word[self.n_words] = word\n",
        "            self.n_words += 1\n",
        "        else:\n",
        "            self.word2count[word] += 1"
      ]
    },
    {
      "cell_type": "markdown",
      "metadata": {
        "id": "OFJCdnKJIaB9"
      },
      "source": [
        "The files are all in Unicode, to simplify we will turn Unicode characters to ASCII, make everything lowercase, and remove most punctuation.\n",
        "\n",
        "\n"
      ]
    },
    {
      "cell_type": "code",
      "execution_count": 4,
      "metadata": {
        "id": "-cFqDt-DIaB9"
      },
      "outputs": [],
      "source": [
        "# turn UNICODE string to ASCII\n",
        "def unicodeToAscii(s):\n",
        "    return ''.join(\n",
        "        c for c in unicodedata.normalize('NFD', s)\n",
        "        if unicodedata.category(c) != 'Mn'\n",
        "    )\n",
        "\n",
        "# Lowercase, and remove the punctuations and non-letter characters\n",
        "def normalizeString(s):\n",
        "    s = unicodeToAscii(s.lower().strip())\n",
        "    s = re.sub(r\"([.!?])\", r\" \\1\", s)\n",
        "    s = re.sub(r\"[^a-zA-Z!?]+\", r\" \", s)\n",
        "    return s.strip()"
      ]
    },
    {
      "cell_type": "markdown",
      "metadata": {
        "id": "WJ5Ml7QDIaB-"
      },
      "source": [
        "To read the data file we will split the file into lines, and then split lines into pairs.\n",
        "\n",
        "The files are from English to another language,if we want to translate from Other Language to English I added the ``reverse`` flag to reverse the pairs.\n",
        "\n",
        "\n"
      ]
    },
    {
      "cell_type": "code",
      "execution_count": 5,
      "metadata": {
        "id": "1o5YlPuPIaB_"
      },
      "outputs": [],
      "source": [
        "import pandas as pd\n",
        "\n",
        "def readLangs(lang1, lang2, reverse=False):\n",
        "    print(\"Reading lines...\")\n",
        "\n",
        "    lines = pd.read_excel(f'{lang1}_to_{lang2}.xlsx',names =['no', 'it', 'n1', 'en'] )\n",
        "    transl = {\n",
        "        'it': lines[lang1],\n",
        "        'en': lines[lang2]\n",
        "    }\n",
        "    pairs = []\n",
        "    for i in range(len(transl['it'])):\n",
        "      norm_it = normalizeString(transl['it'][i])\n",
        "      norm_en = normalizeString(transl['en'][i])\n",
        "      pairs.append([norm_it, norm_en])\n",
        "    # Reverse pairs, make Lang instances\n",
        "    if reverse:\n",
        "        pairs = [list(reversed(p)) for p in pairs]\n",
        "        input_lang = Lang(lang2)\n",
        "        output_lang = Lang(lang1)\n",
        "    else:\n",
        "        input_lang = Lang(lang1)\n",
        "        output_lang = Lang(lang2)\n",
        "\n",
        "    return input_lang, output_lang, pairs"
      ]
    },
    {
      "cell_type": "markdown",
      "metadata": {
        "id": "AhsRCZ2NIaB_"
      },
      "source": [
        "There are many sentences, but we want to train quite quickly the model, thus, we use only the shorter sentences.  \n",
        "We decided for a maximum length of 20 words (including the punctuation)\n",
        "\n",
        "\n"
      ]
    },
    {
      "cell_type": "code",
      "execution_count": 6,
      "metadata": {
        "id": "HlP-xq6JIaB_"
      },
      "outputs": [],
      "source": [
        "MAX_LENGTH =20\n",
        "\n",
        "def filterPair(p):\n",
        "    return len(p[0].split(' ')) < MAX_LENGTH and \\\n",
        "        len(p[1].split(' ')) < MAX_LENGTH\n",
        "\n",
        "\n",
        "def filterPairs(pairs):\n",
        "    return [pair for pair in pairs if filterPair(pair)]"
      ]
    },
    {
      "cell_type": "markdown",
      "metadata": {
        "id": "cVqQv048IaCA"
      },
      "source": [
        "The full process for preparing the data is:\n",
        "\n",
        "-  Read text file and split into lines, split lines into pairs\n",
        "-  Normalize text, filter by length and content\n",
        "-  Make word lists from sentences in pairs\n",
        "\n",
        "\n"
      ]
    },
    {
      "cell_type": "code",
      "execution_count": 8,
      "metadata": {
        "id": "WS5Z5xMEIaCA",
        "colab": {
          "base_uri": "https://localhost:8080/"
        },
        "outputId": "d1f767df-6347-48a0-a6b9-2e621da84661"
      },
      "outputs": [
        {
          "output_type": "stream",
          "name": "stdout",
          "text": [
            "Reading lines...\n",
            "Read 2000 sentence pairs\n",
            "Trimmed to 1994 sentence pairs\n",
            "Counting words...\n",
            "Counted words:\n",
            "it 2334\n",
            "en 1937\n",
            "2334\n",
            "['non mi sento bene', 'i m not feeling well']\n"
          ]
        }
      ],
      "source": [
        "def prepareData(lang1, lang2, reverse=False):\n",
        "    input_lang, output_lang, pairs = readLangs(lang1, lang2, reverse)\n",
        "    print(\"Read %s sentence pairs\" % len(pairs))\n",
        "    pairs = filterPairs(pairs)\n",
        "    print(\"Trimmed to %s sentence pairs\" % len(pairs))\n",
        "    print(\"Counting words...\")\n",
        "    for pair in pairs:\n",
        "        input_lang.addSentence(pair[0])\n",
        "        output_lang.addSentence(pair[1])\n",
        "    print(\"Counted words:\")\n",
        "    print(input_lang.name, input_lang.n_words)\n",
        "    print(output_lang.name, output_lang.n_words)\n",
        "    return input_lang, output_lang, pairs\n",
        "\n",
        "input_lang, output_lang, pairs = prepareData('it', 'en', False)\n",
        "print(input_lang.n_words)\n",
        "print(random.choice(pairs))"
      ]
    },
    {
      "cell_type": "markdown",
      "source": [
        "# Question 1\n",
        "After understanding the Seq2Seq model, modify the code to use the GPU."
      ],
      "metadata": {
        "id": "sicRGokk84AZ"
      }
    },
    {
      "cell_type": "markdown",
      "metadata": {
        "id": "UEviiryBIaCA"
      },
      "source": [
        "## The Seq2Seq Model\n",
        "### The Encoder\n",
        "\n",
        "The *encoder* of a *seq2seq* network is a RNN that outputs *some value for every word from the input sentence*. For every input word the encoder\n",
        "outputs:\n",
        "1. a vector   \n",
        "2. a hidden state   \n",
        "and uses the hidden state for the next input word."
      ]
    },
    {
      "cell_type": "code",
      "execution_count": 9,
      "metadata": {
        "id": "okSz3mctIaCA"
      },
      "outputs": [],
      "source": [
        "class EncoderRNN(nn.Module):\n",
        "    def __init__(self, input_size, hidden_size, dropout_p=0.1):\n",
        "        super(EncoderRNN, self).__init__()\n",
        "        self.hidden_size = hidden_size\n",
        "\n",
        "        self.embedding = nn.Embedding(input_size, hidden_size)\n",
        "        self.gru = nn.GRU(hidden_size, hidden_size, batch_first=True, bidirectional = True)\n",
        "        self.dropout = nn.Dropout(dropout_p)\n",
        "\n",
        "    def forward(self, input):\n",
        "\n",
        "        embedded = self.dropout(self.embedding(input))\n",
        "        output, hidden = self.gru(embedded)\n",
        "\n",
        "        _,b_size,h_size = hidden.shape\n",
        "\n",
        "        if _ == 2: # bidirectional\n",
        "          hidden = hidden.permute((1,2,0))\n",
        "          hidden = hidden.reshape((1,b_size,h_size*_))\n",
        "        return output, hidden"
      ]
    },
    {
      "cell_type": "markdown",
      "metadata": {
        "id": "qrAyCXHfIaCB"
      },
      "source": [
        "### The Decoder\n",
        "\n",
        "The decoder is another RNN that takes the encoder output vector and outputs a sequence of words to create the translation.\n",
        "\n",
        "\n"
      ]
    },
    {
      "cell_type": "markdown",
      "metadata": {
        "id": "kpWeWJOWIaCB"
      },
      "source": [
        "#### Simple Decoder\n",
        "\n",
        "In the simplest case of the seq2seq decoder we use only the last output of the encoder.\n",
        "It is commonly named *context vector* as it encodes\n",
        "context from the entire sequence. This context vector is used as the initial hidden state of the decoder.\n",
        "\n",
        "At every step of decoding, the decoder is given an input token and hidden state. The initial input token is the start-of-string ``<SOS>``\n",
        "token, and the first hidden state is the so-called context vector."
      ]
    },
    {
      "cell_type": "code",
      "execution_count": 10,
      "metadata": {
        "id": "SuH-5PwwIaCB"
      },
      "outputs": [],
      "source": [
        "class DecoderRNN(nn.Module):\n",
        "    def __init__(self, hidden_size, output_size):\n",
        "        super(DecoderRNN, self).__init__()\n",
        "        self.embedding = nn.Embedding(output_size, hidden_size)\n",
        "        self.gru = nn.GRU(hidden_size, hidden_size, batch_first=True)\n",
        "        self.out = nn.Linear(hidden_size, output_size)\n",
        "\n",
        "    def forward(self, encoder_outputs, encoder_hidden, target_tensor=None):\n",
        "        batch_size = encoder_outputs.size(0)\n",
        "        # at the beginning the decoder input is initialised with the SOS token\n",
        "        decoder_input = torch.empty(batch_size, 1, dtype=torch.long, device=device).fill_(SOS_token)\n",
        "        decoder_hidden = encoder_hidden\n",
        "        decoder_outputs = []\n",
        "\n",
        "        for i in range(MAX_LENGTH):\n",
        "            decoder_output, decoder_hidden  = self.forward_step(decoder_input, decoder_hidden)\n",
        "\n",
        "            decoder_outputs.append(decoder_output)\n",
        "\n",
        "            if target_tensor is not None:\n",
        "                # teacher forcing - if we have the target, it is treated as the next input\n",
        "                decoder_input = target_tensor[:, i].unsqueeze(1) # Teacher forcing\n",
        "            else:\n",
        "                # No teacher forcing - use its own predictions as the next input\n",
        "                _, topi = decoder_output.topk(1)\n",
        "                decoder_input = topi.squeeze(-1).detach()  # detach from history as input\n",
        "\n",
        "        decoder_outputs = torch.cat(decoder_outputs, dim=1).to(device)\n",
        "        decoder_outputs = F.log_softmax(decoder_outputs, dim=-1)\n",
        "        return decoder_outputs, decoder_hidden, None # We return `None` for consistency in the training loop\n",
        "\n",
        "    def forward_step(self, input, hidden):\n",
        "        output = self.embedding(input)\n",
        "        output = F.relu(output)\n",
        "        output, hidden = self.gru(output, hidden)\n",
        "        output = self.out(output)\n",
        "        return output, hidden"
      ]
    },
    {
      "cell_type": "markdown",
      "metadata": {
        "id": "rrY--U7JIaCB"
      },
      "source": [
        "#### Attention Decoder\n",
        "\n",
        "If only the context vector is passed between the encoder and decoder, it carries a lot of information of the input sentence.\n",
        "\n",
        "Attention allows the decoder network to \"focus\" on a different part of the encoder's outputs for every step of the decoder's own outputs.\n",
        "\n",
        "The first introduced attention was the *Bahdanau attention*, which is also known ad *additive attention*, is a commonly used\n",
        "attention mechanism in sequence-to-sequence models, particularly in neural machine translation tasks. It was introduced by Bahdanau et al. in their\n",
        "paper titled [Neural Machine Translation by Jointly Learning to Align and Translate](https://arxiv.org/pdf/1409.0473.pdf)_.\n",
        "\n",
        "This attention mechanism employs a learned alignment model to compute attention\n",
        "scores between the encoder and decoder hidden states. It utilises a feed-forward\n",
        "neural network to calculate alignment scores.\n",
        "\n"
      ]
    },
    {
      "cell_type": "markdown",
      "source": [
        "## Question 2\n",
        "\n",
        "Implement the Badhanau attention and the Decoder class which is using the attention."
      ],
      "metadata": {
        "id": "NoqTZHAeqy58"
      }
    },
    {
      "cell_type": "code",
      "execution_count": 11,
      "metadata": {
        "id": "ZNyl5mb7IaCB"
      },
      "outputs": [],
      "source": [
        "class BahdanauAttention(nn.Module):\n",
        "    def __init__(self, hidden_size):\n",
        "        super(BahdanauAttention, self).__init__()\n",
        "        self.Wa = nn.Linear(hidden_size, hidden_size)\n",
        "        self.Ua = nn.Linear(hidden_size, hidden_size)\n",
        "        self.Va = nn.Linear(hidden_size, 1)\n",
        "\n",
        "    def forward(self, query, keys):\n",
        "        scores = self.Va(torch.tanh(self.Wa(query) + self.Ua(keys)))\n",
        "        scores = scores.squeeze(2).unsqueeze(1)\n",
        "\n",
        "        weights = F.softmax(scores, dim=-1)\n",
        "        context = torch.bmm(weights, keys)\n",
        "\n",
        "        return context, weights\n",
        "\n",
        "class AttnDecoderRNN(nn.Module):\n",
        "    def __init__(self, hidden_size, output_size, dropout_p=0.1):\n",
        "        super(AttnDecoderRNN, self).__init__()\n",
        "        self.embedding = nn.Embedding(output_size, hidden_size)\n",
        "        self.attention = BahdanauAttention(hidden_size)\n",
        "        self.gru = nn.GRU(2 * hidden_size, hidden_size, batch_first=True)\n",
        "        self.out = nn.Linear(hidden_size, output_size)\n",
        "        self.dropout = nn.Dropout(dropout_p)\n",
        "\n",
        "    def forward(self, encoder_outputs, encoder_hidden, target_tensor=None):\n",
        "        batch_size = encoder_outputs.size(0)\n",
        "        decoder_input = torch.empty(batch_size, 1, dtype=torch.long, device=device).fill_(SOS_token)\n",
        "        decoder_hidden = encoder_hidden\n",
        "        decoder_outputs = []\n",
        "        attentions = []\n",
        "\n",
        "        for i in range(MAX_LENGTH):\n",
        "            decoder_output, decoder_hidden, attn_weights = self.forward_step(\n",
        "                decoder_input, decoder_hidden, encoder_outputs\n",
        "            )\n",
        "            decoder_outputs.append(decoder_output)\n",
        "            attentions.append(attn_weights)\n",
        "\n",
        "            if target_tensor is not None:\n",
        "                # Teacher forcing: Feed the target as the next input\n",
        "                decoder_input = target_tensor[:, i].unsqueeze(1) # Teacher forcing\n",
        "            else:\n",
        "                # Without teacher forcing: use its own predictions as the next input\n",
        "                _, topi = decoder_output.topk(1)\n",
        "                decoder_input = topi.squeeze(-1).detach()  # detach from history as input\n",
        "\n",
        "        decoder_outputs = torch.cat(decoder_outputs, dim=1).to(device)\n",
        "        decoder_outputs = F.log_softmax(decoder_outputs, dim=-1)\n",
        "        attentions = torch.cat(attentions, dim=1).to(device)\n",
        "\n",
        "        return decoder_outputs, decoder_hidden, attentions\n",
        "\n",
        "\n",
        "    def forward_step(self, input, hidden, encoder_outputs):\n",
        "        embedded =  self.dropout(self.embedding(input))\n",
        "\n",
        "        query = hidden.permute(1, 0, 2)\n",
        "        context, attn_weights = self.attention(query, encoder_outputs)\n",
        "        input_gru = torch.cat((embedded, context), dim=2).to(device)\n",
        "\n",
        "        output, hidden = self.gru(input_gru, hidden)\n",
        "        output = self.out(output)\n",
        "\n",
        "        return output, hidden, attn_weights"
      ]
    },
    {
      "cell_type": "code",
      "execution_count": 12,
      "metadata": {
        "id": "ZxmHDi1zIaCC"
      },
      "outputs": [],
      "source": [
        "def indexesFromSentence(lang, sentence):\n",
        "    return [lang.word2index[word] for word in sentence.split(' ')]\n",
        "\n",
        "def tensorFromSentence(lang, sentence):\n",
        "    indexes = indexesFromSentence(lang, sentence)\n",
        "    indexes.append(EOS_token)\n",
        "    return torch.tensor(indexes, dtype=torch.long, device=device).view(1, -1)\n",
        "\n",
        "def tensorsFromPair(pair):\n",
        "    input_tensor = tensorFromSentence(input_lang, pair[0])\n",
        "    target_tensor = tensorFromSentence(output_lang, pair[1])\n",
        "    return (input_tensor, target_tensor)\n",
        "\n",
        "def get_dataloader(batch_size):\n",
        "    input_lang, output_lang, pairs = prepareData('it', 'en', False)\n",
        "\n",
        "    n = len(pairs)\n",
        "    input_ids = np.zeros((n, MAX_LENGTH), dtype=np.int32)\n",
        "    target_ids = np.zeros((n, MAX_LENGTH), dtype=np.int32)\n",
        "\n",
        "    for idx, (inp, tgt) in enumerate(pairs):\n",
        "        inp_ids = indexesFromSentence(input_lang, inp)\n",
        "        tgt_ids = indexesFromSentence(output_lang, tgt)\n",
        "        inp_ids.append(EOS_token)\n",
        "        tgt_ids.append(EOS_token)\n",
        "\n",
        "        input_ids[idx, :len(inp_ids)] = inp_ids\n",
        "        target_ids[idx, :len(tgt_ids)] = tgt_ids\n",
        "\n",
        "    train_data = TensorDataset(torch.LongTensor(input_ids).to(device),\n",
        "                               torch.LongTensor(target_ids).to(device))\n",
        "\n",
        "    train_sampler = RandomSampler(train_data)\n",
        "    train_dataloader = DataLoader(train_data, sampler=train_sampler, batch_size=batch_size)\n",
        "    return input_lang, output_lang, train_dataloader"
      ]
    },
    {
      "cell_type": "markdown",
      "metadata": {
        "id": "uEoLMp2oIaCC"
      },
      "source": [
        "## Training\n",
        "\n",
        "### Preparing Training Data\n",
        "\n",
        "To train, for each pair we will need an input tensor (indexes of the\n",
        "words in the input sentence) and target tensor (indexes of the words in\n",
        "the target sentence). While creating these vectors we will append the\n",
        "EOS token to both sequences.\n",
        "\n",
        "\n"
      ]
    },
    {
      "cell_type": "markdown",
      "metadata": {
        "id": "NIJLIscSIaCC"
      },
      "source": [
        "### Training the Model\n",
        "\n",
        "To train we run the input sentence through the encoder, and keep track\n",
        "of every output and the latest hidden state. Then the decoder is given\n",
        "the ``<SOS>`` token as its first input, and the last hidden state of the\n",
        "encoder as its first hidden state.\n",
        "\n",
        "\"Teacher forcing\" is the concept of using the real target outputs as\n",
        "each next input, instead of using the decoder's guess as the next input.\n",
        "Using teacher forcing causes it to converge faster but [when the trained\n",
        "network is exploited, it may exhibit\n",
        "instability](http://citeseerx.ist.psu.edu/viewdoc/download?doi=10.1.1.378.4095&rep=rep1&type=pdf)_.\n",
        "\n",
        "You can observe outputs of teacher-forced networks that read with\n",
        "coherent grammar but wander far from the correct translation -\n",
        "intuitively it has learned to represent the output grammar and can \"pick\n",
        "up\" the meaning once the teacher tells it the first few words, but it\n",
        "has not properly learned how to create the sentence from the translation\n",
        "in the first place.\n",
        "\n",
        "Because of the freedom PyTorch's autograd gives us, we can randomly\n",
        "choose to use teacher forcing or not with a simple if statement. Turn\n",
        "``teacher_forcing_ratio`` up to use more of it.\n",
        "\n",
        "\n"
      ]
    },
    {
      "cell_type": "code",
      "execution_count": 13,
      "metadata": {
        "id": "x38iAkoWIaCC"
      },
      "outputs": [],
      "source": [
        "def train_epoch(dataloader, encoder, decoder, encoder_optimizer,\n",
        "          decoder_optimizer, criterion):\n",
        "\n",
        "    total_loss = 0\n",
        "    for data in dataloader:\n",
        "        input_tensor, target_tensor = data\n",
        "\n",
        "        encoder_optimizer.zero_grad()\n",
        "        decoder_optimizer.zero_grad()\n",
        "\n",
        "        encoder_outputs, encoder_hidden = encoder(input_tensor)\n",
        "        decoder_outputs, _, _ = decoder(encoder_outputs, encoder_hidden, target_tensor)\n",
        "\n",
        "        loss = criterion(\n",
        "            decoder_outputs.view(-1, decoder_outputs.size(-1)),\n",
        "            target_tensor.view(-1)\n",
        "        )\n",
        "        loss.backward()\n",
        "\n",
        "        encoder_optimizer.step()\n",
        "        decoder_optimizer.step()\n",
        "\n",
        "        total_loss += loss.item()\n",
        "\n",
        "    return total_loss / len(dataloader)"
      ]
    },
    {
      "cell_type": "markdown",
      "metadata": {
        "id": "2ZFQOU_cIaCC"
      },
      "source": [
        "This is a helper function to print time elapsed and estimated time\n",
        "remaining given the current time and progress %.\n",
        "\n",
        "\n"
      ]
    },
    {
      "cell_type": "code",
      "execution_count": 14,
      "metadata": {
        "id": "iUp4IFWSIaCC"
      },
      "outputs": [],
      "source": [
        "import time, math\n",
        "\n",
        "def asMinutes(s):\n",
        "    m = math.floor(s / 60)\n",
        "    s -= m * 60\n",
        "    return '%dm %ds' % (m, s)\n",
        "\n",
        "def timeSince(since, percent):\n",
        "    now = time.time()\n",
        "    s = now - since\n",
        "    es = s / (percent)\n",
        "    rs = es - s\n",
        "    return '%s (- %s)' % (asMinutes(s), asMinutes(rs))"
      ]
    },
    {
      "cell_type": "markdown",
      "metadata": {
        "id": "EL1MQoq2IaCD"
      },
      "source": [
        "The whole training process looks like this:\n",
        "\n",
        "-  Start a timer\n",
        "-  Initialize optimizers and criterion\n",
        "-  Create set of training pairs\n",
        "-  Start empty losses array for plotting\n",
        "\n",
        "Then we call ``train`` many times and occasionally print the progress (%\n",
        "of examples, time so far, estimated time) and average loss.\n",
        "\n",
        "\n"
      ]
    },
    {
      "cell_type": "code",
      "execution_count": 15,
      "metadata": {
        "id": "1oGjekXcIaCD"
      },
      "outputs": [],
      "source": [
        "def train(train_dataloader, encoder, decoder, n_epochs, learning_rate=0.001,\n",
        "               print_every=100, plot_every=100):\n",
        "    start = time.time()\n",
        "    plot_losses = []\n",
        "    print_loss_total = 0  # Reset every print_every\n",
        "    plot_loss_total = 0  # Reset every plot_every\n",
        "\n",
        "    encoder_optimizer = optim.Adam(encoder.parameters(), lr=learning_rate)\n",
        "    decoder_optimizer = optim.Adam(decoder.parameters(), lr=learning_rate)\n",
        "    criterion = nn.NLLLoss()\n",
        "\n",
        "    for epoch in range(1, n_epochs + 1):\n",
        "        loss = train_epoch(train_dataloader, encoder, decoder, encoder_optimizer, decoder_optimizer, criterion)\n",
        "        print_loss_total += loss\n",
        "        plot_loss_total += loss\n",
        "\n",
        "        if epoch % print_every == 0:\n",
        "            print_loss_avg = print_loss_total / print_every\n",
        "            print_loss_total = 0\n",
        "            print('%s (%d %d%%) %.4f' % (timeSince(start, epoch / n_epochs),\n",
        "                                        epoch, epoch / n_epochs * 100, print_loss_avg))\n",
        "\n",
        "        if epoch % plot_every == 0:\n",
        "            plot_loss_avg = plot_loss_total / plot_every\n",
        "            plot_losses.append(plot_loss_avg)\n",
        "            plot_loss_total = 0\n",
        "\n",
        "    showPlot(plot_losses)"
      ]
    },
    {
      "cell_type": "markdown",
      "metadata": {
        "id": "eZ0-ddbFIaCD"
      },
      "source": [
        "### Plotting results\n",
        "\n",
        "Plotting is done with matplotlib, using the array of loss values\n",
        "``plot_losses`` saved while training.\n",
        "\n",
        "\n"
      ]
    },
    {
      "cell_type": "code",
      "execution_count": 16,
      "metadata": {
        "id": "mbrAhkQrIaCD"
      },
      "outputs": [],
      "source": [
        "import matplotlib.pyplot as plt\n",
        "import matplotlib.ticker as ticker\n",
        "import numpy as np\n",
        "\n",
        "def showPlot(points):\n",
        "    plt.figure()\n",
        "    fig, ax = plt.subplots()\n",
        "    # this locator puts ticks at regular intervals\n",
        "    loc = ticker.MultipleLocator(base=0.2)\n",
        "    ax.yaxis.set_major_locator(loc)\n",
        "    plt.plot(points)"
      ]
    },
    {
      "cell_type": "markdown",
      "metadata": {
        "id": "Pq7xPj4xIaCD"
      },
      "source": [
        "## Evaluation\n",
        "\n",
        "Evaluation is mostly the same as training, but there are no targets so\n",
        "we simply feed the decoder's predictions back to itself for each step.\n",
        "Every time it predicts a word we add it to the output string, and if it\n",
        "predicts the EOS token we stop there. We also store the decoder's\n",
        "attention outputs for display later.\n",
        "\n",
        "\n"
      ]
    },
    {
      "cell_type": "code",
      "execution_count": 17,
      "metadata": {
        "id": "IOB6ToOoIaCE"
      },
      "outputs": [],
      "source": [
        "def evaluate(encoder, decoder, sentence, input_lang, output_lang):\n",
        "    with torch.no_grad():\n",
        "        input_tensor = tensorFromSentence(input_lang, sentence)\n",
        "\n",
        "        encoder_outputs, encoder_hidden = encoder(input_tensor)\n",
        "        decoder_outputs, decoder_hidden, __ = decoder(encoder_outputs, encoder_hidden)\n",
        "\n",
        "        _, topi = decoder_outputs.topk(1)\n",
        "        decoded_ids = topi.squeeze()\n",
        "\n",
        "        decoded_words = []\n",
        "        for idx in decoded_ids:\n",
        "            if idx.item() == EOS_token:\n",
        "                decoded_words.append('<EOS>')\n",
        "                break\n",
        "            decoded_words.append(output_lang.index2word[idx.item()])\n",
        "    return decoded_words, __"
      ]
    },
    {
      "cell_type": "markdown",
      "metadata": {
        "id": "bOAfBOIfIaCE"
      },
      "source": [
        "We can evaluate random sentences from the training set and print out the\n",
        "input, target, and output to make some subjective quality judgements:\n",
        "\n",
        "\n"
      ]
    },
    {
      "cell_type": "code",
      "execution_count": 18,
      "metadata": {
        "id": "INfYRnN9IaCE"
      },
      "outputs": [],
      "source": [
        "def evaluateRandomly(encoder, decoder, n=10):\n",
        "    for i in range(n):\n",
        "        pair = random.choice(pairs)\n",
        "        print('INPUT:', pair[0])\n",
        "        print('TG:', pair[1])\n",
        "        output_words, _ = evaluate(encoder, decoder, pair[0], input_lang, output_lang)\n",
        "        output_sentence = ' '.join(output_words)\n",
        "        print('PRED:', output_sentence)\n",
        "        print('')"
      ]
    },
    {
      "cell_type": "markdown",
      "metadata": {
        "id": "_Sn8ndV3IaCE"
      },
      "source": [
        "## Training and Evaluating\n",
        "\n",
        "\n"
      ]
    },
    {
      "cell_type": "markdown",
      "source": [
        "### Using DecoderRNN"
      ],
      "metadata": {
        "id": "BFlIGkMjsgWt"
      }
    },
    {
      "cell_type": "code",
      "execution_count": 19,
      "metadata": {
        "id": "NONZSvhaIaCI",
        "colab": {
          "base_uri": "https://localhost:8080/",
          "height": 670
        },
        "outputId": "b36751b6-d32d-48e7-f1b3-e7c64f567c7d"
      },
      "outputs": [
        {
          "output_type": "stream",
          "name": "stdout",
          "text": [
            "Reading lines...\n",
            "Read 2000 sentence pairs\n",
            "Trimmed to 1994 sentence pairs\n",
            "Counting words...\n",
            "Counted words:\n",
            "it 2334\n",
            "en 1937\n",
            "0m 14s (- 0m 58s) (5 20%) 1.5503\n",
            "0m 26s (- 0m 39s) (10 40%) 0.6819\n",
            "0m 38s (- 0m 25s) (15 60%) 0.2573\n",
            "0m 50s (- 0m 12s) (20 80%) 0.1000\n",
            "1m 1s (- 0m 0s) (25 100%) 0.0522\n"
          ]
        },
        {
          "output_type": "display_data",
          "data": {
            "text/plain": [
              "<Figure size 640x480 with 0 Axes>"
            ]
          },
          "metadata": {}
        },
        {
          "output_type": "display_data",
          "data": {
            "text/plain": [
              "<Figure size 640x480 with 1 Axes>"
            ],
            "image/png": "[encoded data removed]"
          },
          "metadata": {}
        }
      ],
      "source": [
        "n_epochs_rnn = 25\n",
        "hidden_size_rnn = 128\n",
        "batch_size_rnn = 16\n",
        "\n",
        "input_lang, output_lang, train_dataloader = get_dataloader(batch_size_rnn)\n",
        "\n",
        "encoder_rnn = EncoderRNN(input_lang.n_words, hidden_size_rnn).to(device)\n",
        "decoder_rnn = DecoderRNN(hidden_size_rnn*2, output_lang.n_words).to(device)\n",
        "\n",
        "train(train_dataloader, encoder_rnn, decoder_rnn, n_epochs_rnn, print_every=5, plot_every=5)"
      ]
    },
    {
      "cell_type": "markdown",
      "metadata": {
        "id": "PKkVVSw1IaCI"
      },
      "source": [
        "Set dropout layers to ``eval`` mode\n",
        "\n"
      ]
    },
    {
      "cell_type": "code",
      "execution_count": 37,
      "metadata": {
        "id": "yr-XK6kEIaCI",
        "colab": {
          "base_uri": "https://localhost:8080/"
        },
        "outputId": "23eeca45-7d2c-4b2a-ec0d-43b9c25fe4c2"
      },
      "outputs": [
        {
          "output_type": "stream",
          "name": "stdout",
          "text": [
            "INPUT: abbiamo molti compiti da fare\n",
            "TG: we have a lot of homework to do\n",
            "PRED: we have a lot of homework to do <EOS>\n",
            "\n",
            "INPUT: qualcuno sta suonando il pianoforte\n",
            "TG: someone is playing the piano\n",
            "PRED: someone is playing <EOS>\n",
            "\n",
            "INPUT: e accusato di rapimento\n",
            "TG: he s being accused of kidnapping\n",
            "PRED: he is accused of kidnapping <EOS>\n",
            "\n",
            "INPUT: ci sei mai stato ?\n",
            "TG: have you ever been there ?\n",
            "PRED: have you ever been ? <EOS>\n",
            "\n",
            "INPUT: sta zitto e ascolta !\n",
            "TG: shut up and listen !\n",
            "PRED: shut up and listen <EOS>\n",
            "\n",
            "INPUT: e scoppiato un incendio nel mio vicinato la scorsa notte\n",
            "TG: a fire broke out in my neighborhood last night\n",
            "PRED: a fire broke out in my neighborhood <EOS>\n",
            "\n",
            "INPUT: ti senti male ?\n",
            "TG: are you feeling sick ?\n",
            "PRED: are you feeling sick ? <EOS>\n",
            "\n",
            "INPUT: era in tempo per l appuntamento\n",
            "TG: he was in time for the appointment\n",
            "PRED: he was in the appointment <EOS>\n",
            "\n",
            "INPUT: se avessi piu soldi potrei traslocare in una casa piu grande\n",
            "TG: if i had more money i could move to a bigger house\n",
            "PRED: if i had had more money i could move to a bigger <EOS>\n",
            "\n",
            "INPUT: una lettera maiuscola e usata all inizio di una frase\n",
            "TG: a capital letter is used at the beginning of a sentence\n",
            "PRED: a capital letter is used <EOS>\n",
            "\n"
          ]
        }
      ],
      "source": [
        "encoder_rnn.eval()\n",
        "decoder_rnn.eval()\n",
        "evaluateRandomly(encoder_rnn, decoder_rnn)"
      ]
    },
    {
      "cell_type": "markdown",
      "source": [
        "### Using AttnDecoderRNN"
      ],
      "metadata": {
        "id": "F62Wbrwxsk6V"
      }
    },
    {
      "cell_type": "code",
      "source": [
        "n_epochs_att = 80\n",
        "hidden_size_att = 128\n",
        "batch_size_att = 16\n",
        "\n",
        "input_lang, output_lang, train_dataloader = get_dataloader(batch_size_att)\n",
        "\n",
        "encoder_rnn_2 = EncoderRNN(input_lang.n_words, hidden_size_att).to(device)\n",
        "decoder_attdec_rnn = AttnDecoderRNN(hidden_size_att*2, output_lang.n_words).to(device)\n",
        "\n",
        "train(train_dataloader, encoder_rnn_2, decoder_attdec_rnn, n_epochs_att, print_every=5, plot_every=5)"
      ],
      "metadata": {
        "colab": {
          "base_uri": "https://localhost:8080/",
          "height": 873
        },
        "id": "xW5MTtTrseVo",
        "outputId": "fbe3a94c-f56c-428c-fb26-abdc55f70e57"
      },
      "execution_count": 38,
      "outputs": [
        {
          "output_type": "stream",
          "name": "stdout",
          "text": [
            "Reading lines...\n",
            "Read 2000 sentence pairs\n",
            "Trimmed to 1994 sentence pairs\n",
            "Counting words...\n",
            "Counted words:\n",
            "it 2334\n",
            "en 1937\n",
            "0m 23s (- 5m 52s) (5 6%) 1.4660\n",
            "0m 47s (- 5m 34s) (10 12%) 0.5490\n",
            "1m 10s (- 5m 6s) (15 18%) 0.1621\n",
            "1m 33s (- 4m 41s) (20 25%) 0.0587\n",
            "1m 57s (- 4m 18s) (25 31%) 0.0367\n",
            "2m 20s (- 3m 54s) (30 37%) 0.0301\n",
            "2m 44s (- 3m 31s) (35 43%) 0.0252\n",
            "3m 7s (- 3m 7s) (40 50%) 0.0230\n",
            "3m 30s (- 2m 44s) (45 56%) 0.0258\n",
            "3m 53s (- 2m 20s) (50 62%) 0.0215\n",
            "4m 16s (- 1m 56s) (55 68%) 0.0201\n",
            "4m 40s (- 1m 33s) (60 75%) 0.0215\n",
            "5m 4s (- 1m 10s) (65 81%) 0.0232\n",
            "5m 28s (- 0m 46s) (70 87%) 0.0187\n",
            "5m 52s (- 0m 23s) (75 93%) 0.0178\n",
            "6m 16s (- 0m 0s) (80 100%) 0.0185\n"
          ]
        },
        {
          "output_type": "display_data",
          "data": {
            "text/plain": [
              "<Figure size 640x480 with 0 Axes>"
            ]
          },
          "metadata": {}
        },
        {
          "output_type": "display_data",
          "data": {
            "text/plain": [
              "<Figure size 640x480 with 1 Axes>"
            ],
            "image/png": "[encoded data removed]"
          },
          "metadata": {}
        }
      ]
    },
    {
      "cell_type": "code",
      "source": [
        "encoder_rnn_2.eval()\n",
        "decoder_attdec_rnn.eval()\n",
        "evaluateRandomly(encoder_rnn_2, decoder_attdec_rnn)"
      ],
      "metadata": {
        "colab": {
          "base_uri": "https://localhost:8080/"
        },
        "id": "yFpvVOp7x19E",
        "outputId": "03b001c7-bd81-4846-d443-9387e3eb99d0"
      },
      "execution_count": 22,
      "outputs": [
        {
          "output_type": "stream",
          "name": "stdout",
          "text": [
            "INPUT: quello non succedera\n",
            "TG: that won t happen\n",
            "PRED: that won t happen to him anymore <EOS>\n",
            "\n",
            "INPUT: sono uno studente universitario\n",
            "TG: i m a university student\n",
            "PRED: i am a university student student my camera car last night student student sun student romantic sun student power power\n",
            "\n",
            "INPUT: la liberta non e gratuita\n",
            "TG: freedom is not free\n",
            "PRED: freedom is not easy to carry out <EOS>\n",
            "\n",
            "INPUT: suona il piano\n",
            "TG: she plays the piano\n",
            "PRED: she plays the best job in the dictionary under his arm <EOS>\n",
            "\n",
            "INPUT: il treno non e ancora arrivato\n",
            "TG: the train has not arrived yet\n",
            "PRED: the train has not arrived yet <EOS>\n",
            "\n",
            "INPUT: i pesci sono animali a sangue freddo\n",
            "TG: fish are cold blooded animals\n",
            "PRED: fish are cold blooded animals random likes trace trace trace trace trace trace trace trace trace trace trace trace trace\n",
            "\n",
            "INPUT: hai una macchina fotografica ?\n",
            "TG: do you have a camera ?\n",
            "PRED: do you have a camera ? <EOS>\n",
            "\n",
            "INPUT: muoio di fame !\n",
            "TG: i m starving !\n",
            "PRED: i m starving ! <EOS>\n",
            "\n",
            "INPUT: parla troppo velocemente\n",
            "TG: he talks too fast\n",
            "PRED: he talks too fast <EOS>\n",
            "\n",
            "INPUT: ho fatto un sogno orribile\n",
            "TG: i had a terrible dream\n",
            "PRED: i had a terrible dream dream dream a mistake dream last night a mistake dream dream last night a mistake\n",
            "\n"
          ]
        }
      ]
    },
    {
      "cell_type": "markdown",
      "metadata": {
        "id": "AEndtMSZIaCI"
      },
      "source": [
        "### Visualizing Attention\n",
        "\n",
        "To visualise the attention is useful as you can understand what are the informative parts of the input data which are taken into account to perform the decoding.\n",
        "\n",
        "\n"
      ]
    },
    {
      "cell_type": "markdown",
      "source": [
        "## Question 3\n",
        "Use the function `evaluateAndShowAttention()` to see the attention weights for the translation for a single sentence."
      ],
      "metadata": {
        "id": "F3fDezb5ppP1"
      }
    },
    {
      "cell_type": "code",
      "execution_count": 23,
      "metadata": {
        "id": "ssgYM6ANIaCI"
      },
      "outputs": [],
      "source": [
        "def showAttention(input_sentence, output_words, attentions):\n",
        "    fig = plt.figure()\n",
        "    ax = fig.add_subplot(111)\n",
        "    cax = ax.matshow(attentions.cpu().numpy(), cmap='bone')\n",
        "    fig.colorbar(cax)\n",
        "\n",
        "    # Set up axes\n",
        "    ax.set_xticklabels([''] + input_sentence.split(' ') +\n",
        "                       ['<EOS>'], rotation=90)\n",
        "    ax.set_yticklabels([''] + output_words)\n",
        "\n",
        "    # Show label at every tick\n",
        "    ax.xaxis.set_major_locator(ticker.MultipleLocator(1))\n",
        "    ax.yaxis.set_major_locator(ticker.MultipleLocator(1))\n",
        "\n",
        "    plt.show()\n",
        "\n",
        "\n",
        "def evaluateAndShowAttention(input_sentence, encoder, decoder):\n",
        "    output_words, attentions = evaluate(encoder, decoder, input_sentence, input_lang, output_lang)\n",
        "    print('input =', input_sentence)\n",
        "    print('output =', ' '.join(output_words))\n",
        "    showAttention(input_sentence, output_words, attentions[0, :len(output_words), :])\n"
      ]
    },
    {
      "cell_type": "code",
      "source": [
        "evaluateAndShowAttention(\"non ti preoccupare\", encoder_rnn_2, decoder_attdec_rnn)"
      ],
      "metadata": {
        "colab": {
          "base_uri": "https://localhost:8080/",
          "height": 619
        },
        "id": "d9ltqDWRvTWq",
        "outputId": "a009f19c-b9b2-44fd-c453-a38332d74145"
      },
      "execution_count": 24,
      "outputs": [
        {
          "output_type": "stream",
          "name": "stdout",
          "text": [
            "input = non ti preoccupare\n",
            "output = don t worry <EOS>\n"
          ]
        },
        {
          "output_type": "stream",
          "name": "stderr",
          "text": [
            "<ipython-input-23-296dee74a5cc>:8: UserWarning: FixedFormatter should only be used together with FixedLocator\n",
            "  ax.set_xticklabels([''] + input_sentence.split(' ') +\n",
            "<ipython-input-23-296dee74a5cc>:10: UserWarning: FixedFormatter should only be used together with FixedLocator\n",
            "  ax.set_yticklabels([''] + output_words)\n"
          ]
        },
        {
          "output_type": "display_data",
          "data": {
            "text/plain": [
              "<Figure size 640x480 with 2 Axes>"
            ],
            "image/png": "[encoded data removed]"
          },
          "metadata": {}
        }
      ]
    },
    {
      "cell_type": "code",
      "source": [
        "evaluateAndShowAttention(\"mio fratello vive a tokyo\", encoder_rnn_2, decoder_attdec_rnn)"
      ],
      "metadata": {
        "colab": {
          "base_uri": "https://localhost:8080/",
          "height": 583
        },
        "id": "oKMJAhZ0zMpl",
        "outputId": "f548d4eb-3316-41dc-efee-33cb5fbeed19"
      },
      "execution_count": 25,
      "outputs": [
        {
          "output_type": "stream",
          "name": "stdout",
          "text": [
            "input = mio fratello vive a tokyo\n",
            "output = my brother lives in tokyo <EOS>\n"
          ]
        },
        {
          "output_type": "stream",
          "name": "stderr",
          "text": [
            "<ipython-input-23-296dee74a5cc>:8: UserWarning: FixedFormatter should only be used together with FixedLocator\n",
            "  ax.set_xticklabels([''] + input_sentence.split(' ') +\n",
            "<ipython-input-23-296dee74a5cc>:10: UserWarning: FixedFormatter should only be used together with FixedLocator\n",
            "  ax.set_yticklabels([''] + output_words)\n"
          ]
        },
        {
          "output_type": "display_data",
          "data": {
            "text/plain": [
              "<Figure size 640x480 with 2 Axes>"
            ],
            "image/png": "[encoded data removed]"
          },
          "metadata": {}
        }
      ]
    },
    {
      "cell_type": "code",
      "source": [
        "evaluateAndShowAttention(\"domani e il mio compleanno\", encoder_rnn_2, decoder_attdec_rnn)"
      ],
      "metadata": {
        "colab": {
          "base_uri": "https://localhost:8080/",
          "height": 617
        },
        "id": "SQ84OlRuzOEj",
        "outputId": "575c286d-3e95-4163-d7e1-cbfd3eddfc61"
      },
      "execution_count": 30,
      "outputs": [
        {
          "output_type": "stream",
          "name": "stdout",
          "text": [
            "input = domani e il mio compleanno\n",
            "output = tomorrow is my birthday birthday <EOS>\n"
          ]
        },
        {
          "output_type": "stream",
          "name": "stderr",
          "text": [
            "<ipython-input-23-296dee74a5cc>:8: UserWarning: FixedFormatter should only be used together with FixedLocator\n",
            "  ax.set_xticklabels([''] + input_sentence.split(' ') +\n",
            "<ipython-input-23-296dee74a5cc>:10: UserWarning: FixedFormatter should only be used together with FixedLocator\n",
            "  ax.set_yticklabels([''] + output_words)\n"
          ]
        },
        {
          "output_type": "display_data",
          "data": {
            "text/plain": [
              "<Figure size 640x480 with 2 Axes>"
            ],
            "image/png": "[encoded data removed]"
          },
          "metadata": {}
        }
      ]
    },
    {
      "cell_type": "code",
      "source": [
        "evaluateAndShowAttention(\"tutti conoscono il suo nome\", encoder_rnn_2, decoder_attdec_rnn)"
      ],
      "metadata": {
        "colab": {
          "base_uri": "https://localhost:8080/",
          "height": 581
        },
        "id": "Q-UeSYVnzRly",
        "outputId": "6458ca15-f7e3-4464-cd42-9c36107463b4"
      },
      "execution_count": 27,
      "outputs": [
        {
          "output_type": "stream",
          "name": "stdout",
          "text": [
            "input = tutti conoscono il suo nome\n",
            "output = everyone knows his name <EOS>\n"
          ]
        },
        {
          "output_type": "stream",
          "name": "stderr",
          "text": [
            "<ipython-input-23-296dee74a5cc>:8: UserWarning: FixedFormatter should only be used together with FixedLocator\n",
            "  ax.set_xticklabels([''] + input_sentence.split(' ') +\n",
            "<ipython-input-23-296dee74a5cc>:10: UserWarning: FixedFormatter should only be used together with FixedLocator\n",
            "  ax.set_yticklabels([''] + output_words)\n"
          ]
        },
        {
          "output_type": "display_data",
          "data": {
            "text/plain": [
              "<Figure size 640x480 with 2 Axes>"
            ],
            "image/png": "[encoded data removed]"
          },
          "metadata": {}
        }
      ]
    },
    {
      "cell_type": "code",
      "source": [
        "evaluateAndShowAttention(\"e un errore comune\", encoder_rnn_2, decoder_attdec_rnn)"
      ],
      "metadata": {
        "colab": {
          "base_uri": "https://localhost:8080/",
          "height": 587
        },
        "id": "E3-lFrZ0TwVv",
        "outputId": "ea393183-bf1e-415a-dea6-0d7536258bf2"
      },
      "execution_count": 39,
      "outputs": [
        {
          "output_type": "stream",
          "name": "stdout",
          "text": [
            "input = e un errore comune\n",
            "output = it s a common mistake <EOS>\n"
          ]
        },
        {
          "output_type": "stream",
          "name": "stderr",
          "text": [
            "<ipython-input-23-296dee74a5cc>:8: UserWarning: FixedFormatter should only be used together with FixedLocator\n",
            "  ax.set_xticklabels([''] + input_sentence.split(' ') +\n",
            "<ipython-input-23-296dee74a5cc>:10: UserWarning: FixedFormatter should only be used together with FixedLocator\n",
            "  ax.set_yticklabels([''] + output_words)\n"
          ]
        },
        {
          "output_type": "display_data",
          "data": {
            "text/plain": [
              "<Figure size 640x480 with 2 Axes>"
            ],
            "image/png": "[encoded data removed]"
          },
          "metadata": {}
        }
      ]
    }
  ],
  "metadata": {
    "kernelspec": {
      "display_name": "Python 3",
      "name": "python3"
    },
    "language_info": {
      "codemirror_mode": {
        "name": "ipython",
        "version": 3
      },
      "file_extension": ".py",
      "mimetype": "text/x-python",
      "name": "python",
      "nbconvert_exporter": "python",
      "pygments_lexer": "ipython3",
      "version": "3.10.13"
    },
    "colab": {
      "provenance": [],
      "gpuType": "T4"
    },
    "accelerator": "GPU"
  },
  "nbformat": 4,
  "nbformat_minor": 0
}